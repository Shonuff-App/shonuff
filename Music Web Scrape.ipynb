{
 "cells": [
  {
   "cell_type": "code",
   "execution_count": 1,
   "metadata": {},
   "outputs": [],
   "source": [
    "from splinter import Browser\n",
    "from bs4 import BeautifulSoup\n",
    "import requests\n",
    "import os"
   ]
  },
  {
   "cell_type": "code",
   "execution_count": 2,
   "metadata": {},
   "outputs": [
    {
     "name": "stdout",
     "output_type": "stream",
     "text": [
      "/Users/yukunpeng/anaconda3/bin/ChromeDriver\r\n"
     ]
    }
   ],
   "source": [
    "!which ChromeDriver"
   ]
  },
  {
   "cell_type": "code",
   "execution_count": 3,
   "metadata": {},
   "outputs": [],
   "source": [
    "executable_path = {'executable_path': 'Config/chromedriver'}\n",
    "browser = Browser('chrome', **executable_path)"
   ]
  },
  {
   "cell_type": "code",
   "execution_count": 9,
   "metadata": {},
   "outputs": [],
   "source": [
    "url = \"http://showlistaustin.com/archives.shtml\"\n",
    "browser.visit(url)"
   ]
  },
  {
   "cell_type": "code",
   "execution_count": 10,
   "metadata": {},
   "outputs": [],
   "source": [
    "html = browser.html\n",
    "music_soup = BeautifulSoup(html, 'html.parser')"
   ]
  },
  {
   "cell_type": "code",
   "execution_count": 38,
   "metadata": {},
   "outputs": [],
   "source": [
    "music_table = music_soup.find_all('h4')"
   ]
  },
  {
   "cell_type": "code",
   "execution_count": 40,
   "metadata": {},
   "outputs": [
    {
     "name": "stdout",
     "output_type": "stream",
     "text": [
      "[None, <a href=\"http://showlistaustin.com\">\n",
      "<font color=\"#ad6d32\">main page</font></a>, <a href=\"cgi/genarchive.cgi?date=2018-01-04\">January 04</a>, <a href=\"cgi/genarchive.cgi?date=2018-03-12\">March 12</a>, <a href=\"cgi/genarchive.cgi?date=2018-04-05\">April 05</a>, <a href=\"cgi/genarchive.cgi?date=2018-05-10\">May 10</a>, <a href=\"cgi/genarchive.cgi?date=2017-01-05\">January 05</a>, <a href=\"cgi/genarchive.cgi?date=2017-03-13\">March 13</a>, <a href=\"cgi/genarchive.cgi?date=2017-04-13\">April 13</a>, <a href=\"cgi/genarchive.cgi?date=2017-06-22\">June 22</a>, <a href=\"cgi/genarchive.cgi?date=2017-08-31\">August 31</a>, <a href=\"cgi/genarchive.cgi?date=2017-11-09\">November 09</a>, <a href=\"cgi/genarchive.cgi?date=2016-01-07\">January 07</a>, <a href=\"cgi/genarchive.cgi?date=2016-03-13\">March 13</a>, <a href=\"cgi/genarchive.cgi?date=2016-04-07\">April 07</a>, <a href=\"cgi/genarchive.cgi?date=2016-06-16\">June 16</a>, <a href=\"cgi/genarchive.cgi?date=2016-08-25\">August 25</a>, <a href=\"cgi/genarchive.cgi?date=2016-11-03\">November 03</a>, <a href=\"cgi/genarchive.cgi?date=2015-01-01\">January 01</a>, <a href=\"cgi/genarchive.cgi?date=2015-03-12\">March 12</a>, <a href=\"cgi/genarchive.cgi?date=2015-04-16\">April 16</a>, <a href=\"cgi/genarchive.cgi?date=2015-06-25\">June 25</a>, <a href=\"cgi/genarchive.cgi?date=2015-09-03\">September 03</a>, <a href=\"cgi/genarchive.cgi?date=2015-11-12\">November 12</a>, <a href=\"cgi/genarchive.cgi?date=2014-01-02\">January 02</a>, <a href=\"cgi/genarchive.cgi?date=2014-03-11\">March 11</a>, <a href=\"cgi/genarchive.cgi?date=2014-04-24\">April 24</a>, <a href=\"cgi/genarchive.cgi?date=2014-07-03\">July 03</a>, <a href=\"cgi/genarchive.cgi?date=2014-09-11\">September 11</a>, <a href=\"cgi/genarchive.cgi?date=2014-11-20\">November 20</a>, <a href=\"cgi/genarchive.cgi?date=2013-01-03\">January 03</a>, <a href=\"cgi/genarchive.cgi?date=2013-03-08\">March 08</a>, <a href=\"cgi/genarchive.cgi?date=2013-03-21\">March 21</a>, <a href=\"cgi/genarchive.cgi?date=2013-05-30\">May 30</a>, <a href=\"cgi/genarchive.cgi?date=2013-08-08\">August 08</a>, <a href=\"cgi/genarchive.cgi?date=2013-10-17\">October 17</a>, <a href=\"cgi/genarchive.cgi?date=2012-01-05\">January 05</a>, <a href=\"cgi/genarchive.cgi?date=2012-03-08\">March 08</a>, <a href=\"cgi/genarchive.cgi?date=2012-05-10\">May 10</a>, <a href=\"cgi/genarchive.cgi?date=2012-07-12\">July 12</a>, <a href=\"cgi/genarchive.cgi?date=2012-09-13\">September 13</a>, <a href=\"cgi/genarchive.cgi?date=2012-11-08\">November 08</a>, <a href=\"cgi/genarchive.cgi?date=2011-01-06\">January 06</a>, <a href=\"cgi/genarchive.cgi?date=2011-03-10\">March 10</a>, <a href=\"cgi/genarchive.cgi?date=2011-05-05\">May 05</a>, <a href=\"cgi/genarchive.cgi?date=2011-07-07\">July 07</a>, <a href=\"cgi/genarchive.cgi?date=2011-09-08\">September 8</a>, <a href=\"cgi/genarchive.cgi?date=2011-11-10\">November 10</a>, <a href=\"cgi/genarchive.cgi?date=2010-01-07\">January 07</a>, <a href=\"cgi/genarchive.cgi?date=2010-03-11\">March 11</a>, <a href=\"cgi/genarchive.cgi?date=2010-05-13\">May 13</a>, <a href=\"cgi/genarchive.cgi?date=2010-07-15\">July 15</a>, <a href=\"cgi/genarchive.cgi?date=2010-09-09\">September 9</a>, <a href=\"cgi/genarchive.cgi?date=2010-11-11\">November 11</a>, <a href=\"cgi/genarchive.cgi?date=2009-01-01\">January 01</a>, <a href=\"cgi/genarchive.cgi?date=2009-03-05\">March 05</a>, <a href=\"cgi/genarchive.cgi?date=2009-05-07\">May 07</a>, <a href=\"cgi/genarchive.cgi?date=2009-07-09\">July 09</a>, <a href=\"cgi/genarchive.cgi?date=2009-09-10\">September 10</a>, <a href=\"cgi/genarchive.cgi?date=2009-11-12\">November 12</a>, <a href=\"cgi/genarchive.cgi?date=2008-01-03\">January 03</a>, <a href=\"./Archives/2008-03-06.shtml\">March 06</a>, <a href=\"./Archives/2008-05-08.shtml\">May 08</a>, <a href=\"./Archives/2008-07-10.shtml\">July 10</a>, <a href=\"./Archives/2008-09-11.shtml\">September 11</a>, <a href=\"./Archives/2008-11-13.shtml\">November 13</a>, <a href=\"./Archives/2007-01-04.html\">January 04</a>, <a href=\"./Archives/2007-03-08.shtml\">March 08</a>, <a href=\"./Archives/2007-05-10.shtml\">May 10</a>, <a href=\"./Archives/2007-07-12.shtml\">July 12</a>, <a href=\"./Archives/2007-09-13.shtml\">September 13</a>, <a href=\"./Archives/2007-11-15.shtml\">November 15</a>, <a href=\"./Archives/2006-01-05.html\">January 05</a>, <a href=\"./Archives/2006-03-09.html\">March 09</a>, <a href=\"./Archives/2006-05-11.html\">May 11</a>, <a href=\"./Archives/2006-07-13.html\">July 13</a>, <a href=\"./Archives/2006-09-14.html\">September 14</a>, <a href=\"./Archives/2006-11-09.html\">November 09</a>, <a href=\"./Archives/2005-01-06.html\">January 06</a>, <a href=\"./Archives/2005-03-10.html\">March 10</a>, <a href=\"./Archives/2005-05-12.html\">May 12</a>, <a href=\"./Archives/2005-07-14.html\">July 14</a>, <a href=\"./Archives/2005-09-15.html\">September 15</a>, <a href=\"./Archives/2005-11-10.html\">November 10</a>, <a href=\"./Archives/2004-02-26.html\">February 26</a>, <a href=\"./Archives/2004-06-10.html\">June 10</a>, <a href=\"./Archives/2004-07-29.html\">July 29</a>, <a href=\"./Archives/2004-09-09.html\">September 09</a>, <a href=\"./Archives/2004-10-14.html\">October 14</a>, <a href=\"./Archives/2004-12-02.html\">December 02</a>, <a href=\"./Archives/2003-10-13.html\">October 13</a>]\n"
     ]
    }
   ],
   "source": [
    "links = []\n",
    "\n",
    "for link in music_table:\n",
    "    links.append(link.a)\n",
    "    \n",
    "    \n",
    "print(links.get)"
   ]
  },
  {
   "cell_type": "code",
   "execution_count": null,
   "metadata": {},
   "outputs": [],
   "source": []
  }
 ],
 "metadata": {
  "kernelspec": {
   "display_name": "Python 3",
   "language": "python",
   "name": "python3"
  },
  "language_info": {
   "codemirror_mode": {
    "name": "ipython",
    "version": 3
   },
   "file_extension": ".py",
   "mimetype": "text/x-python",
   "name": "python",
   "nbconvert_exporter": "python",
   "pygments_lexer": "ipython3",
   "version": "3.6.4"
  }
 },
 "nbformat": 4,
 "nbformat_minor": 2
}
